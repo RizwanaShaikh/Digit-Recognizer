{
 "cells": [
  {
   "cell_type": "code",
   "execution_count": 1,
   "metadata": {},
   "outputs": [],
   "source": [
    "import numpy as np\n",
    "import pandas as pd\n",
    "%matplotlib inline\n",
    "import matplotlib as mpl\n",
    "import matplotlib.pyplot as plt"
   ]
  },
  {
   "cell_type": "code",
   "execution_count": 2,
   "metadata": {},
   "outputs": [],
   "source": [
    "import tensorflow as tf\n",
    "from tensorflow import keras "
   ]
  },
  {
   "cell_type": "code",
   "execution_count": 31,
   "metadata": {},
   "outputs": [],
   "source": [
    "train_data_main = pd.read_csv(\"/media/sidd/Education/DataSets/Digit Recognizer/train.csv\",encoding='utf-8', dtype=np.float32)\n",
    "test_data_main = pd.read_csv(\"/media/sidd/Education/DataSets/Digit Recognizer/test.csv\",encoding='utf-8', dtype=np.float32)"
   ]
  },
  {
   "cell_type": "code",
   "execution_count": 32,
   "metadata": {},
   "outputs": [
    {
     "data": {
      "text/html": [
       "<div>\n",
       "<style scoped>\n",
       "    .dataframe tbody tr th:only-of-type {\n",
       "        vertical-align: middle;\n",
       "    }\n",
       "\n",
       "    .dataframe tbody tr th {\n",
       "        vertical-align: top;\n",
       "    }\n",
       "\n",
       "    .dataframe thead th {\n",
       "        text-align: right;\n",
       "    }\n",
       "</style>\n",
       "<table border=\"1\" class=\"dataframe\">\n",
       "  <thead>\n",
       "    <tr style=\"text-align: right;\">\n",
       "      <th></th>\n",
       "      <th>label</th>\n",
       "      <th>pixel0</th>\n",
       "      <th>pixel1</th>\n",
       "      <th>pixel2</th>\n",
       "      <th>pixel3</th>\n",
       "      <th>pixel4</th>\n",
       "      <th>pixel5</th>\n",
       "      <th>pixel6</th>\n",
       "      <th>pixel7</th>\n",
       "      <th>pixel8</th>\n",
       "      <th>...</th>\n",
       "      <th>pixel774</th>\n",
       "      <th>pixel775</th>\n",
       "      <th>pixel776</th>\n",
       "      <th>pixel777</th>\n",
       "      <th>pixel778</th>\n",
       "      <th>pixel779</th>\n",
       "      <th>pixel780</th>\n",
       "      <th>pixel781</th>\n",
       "      <th>pixel782</th>\n",
       "      <th>pixel783</th>\n",
       "    </tr>\n",
       "  </thead>\n",
       "  <tbody>\n",
       "    <tr>\n",
       "      <th>0</th>\n",
       "      <td>1.0</td>\n",
       "      <td>0.0</td>\n",
       "      <td>0.0</td>\n",
       "      <td>0.0</td>\n",
       "      <td>0.0</td>\n",
       "      <td>0.0</td>\n",
       "      <td>0.0</td>\n",
       "      <td>0.0</td>\n",
       "      <td>0.0</td>\n",
       "      <td>0.0</td>\n",
       "      <td>...</td>\n",
       "      <td>0.0</td>\n",
       "      <td>0.0</td>\n",
       "      <td>0.0</td>\n",
       "      <td>0.0</td>\n",
       "      <td>0.0</td>\n",
       "      <td>0.0</td>\n",
       "      <td>0.0</td>\n",
       "      <td>0.0</td>\n",
       "      <td>0.0</td>\n",
       "      <td>0.0</td>\n",
       "    </tr>\n",
       "    <tr>\n",
       "      <th>1</th>\n",
       "      <td>0.0</td>\n",
       "      <td>0.0</td>\n",
       "      <td>0.0</td>\n",
       "      <td>0.0</td>\n",
       "      <td>0.0</td>\n",
       "      <td>0.0</td>\n",
       "      <td>0.0</td>\n",
       "      <td>0.0</td>\n",
       "      <td>0.0</td>\n",
       "      <td>0.0</td>\n",
       "      <td>...</td>\n",
       "      <td>0.0</td>\n",
       "      <td>0.0</td>\n",
       "      <td>0.0</td>\n",
       "      <td>0.0</td>\n",
       "      <td>0.0</td>\n",
       "      <td>0.0</td>\n",
       "      <td>0.0</td>\n",
       "      <td>0.0</td>\n",
       "      <td>0.0</td>\n",
       "      <td>0.0</td>\n",
       "    </tr>\n",
       "    <tr>\n",
       "      <th>2</th>\n",
       "      <td>1.0</td>\n",
       "      <td>0.0</td>\n",
       "      <td>0.0</td>\n",
       "      <td>0.0</td>\n",
       "      <td>0.0</td>\n",
       "      <td>0.0</td>\n",
       "      <td>0.0</td>\n",
       "      <td>0.0</td>\n",
       "      <td>0.0</td>\n",
       "      <td>0.0</td>\n",
       "      <td>...</td>\n",
       "      <td>0.0</td>\n",
       "      <td>0.0</td>\n",
       "      <td>0.0</td>\n",
       "      <td>0.0</td>\n",
       "      <td>0.0</td>\n",
       "      <td>0.0</td>\n",
       "      <td>0.0</td>\n",
       "      <td>0.0</td>\n",
       "      <td>0.0</td>\n",
       "      <td>0.0</td>\n",
       "    </tr>\n",
       "    <tr>\n",
       "      <th>3</th>\n",
       "      <td>4.0</td>\n",
       "      <td>0.0</td>\n",
       "      <td>0.0</td>\n",
       "      <td>0.0</td>\n",
       "      <td>0.0</td>\n",
       "      <td>0.0</td>\n",
       "      <td>0.0</td>\n",
       "      <td>0.0</td>\n",
       "      <td>0.0</td>\n",
       "      <td>0.0</td>\n",
       "      <td>...</td>\n",
       "      <td>0.0</td>\n",
       "      <td>0.0</td>\n",
       "      <td>0.0</td>\n",
       "      <td>0.0</td>\n",
       "      <td>0.0</td>\n",
       "      <td>0.0</td>\n",
       "      <td>0.0</td>\n",
       "      <td>0.0</td>\n",
       "      <td>0.0</td>\n",
       "      <td>0.0</td>\n",
       "    </tr>\n",
       "    <tr>\n",
       "      <th>4</th>\n",
       "      <td>0.0</td>\n",
       "      <td>0.0</td>\n",
       "      <td>0.0</td>\n",
       "      <td>0.0</td>\n",
       "      <td>0.0</td>\n",
       "      <td>0.0</td>\n",
       "      <td>0.0</td>\n",
       "      <td>0.0</td>\n",
       "      <td>0.0</td>\n",
       "      <td>0.0</td>\n",
       "      <td>...</td>\n",
       "      <td>0.0</td>\n",
       "      <td>0.0</td>\n",
       "      <td>0.0</td>\n",
       "      <td>0.0</td>\n",
       "      <td>0.0</td>\n",
       "      <td>0.0</td>\n",
       "      <td>0.0</td>\n",
       "      <td>0.0</td>\n",
       "      <td>0.0</td>\n",
       "      <td>0.0</td>\n",
       "    </tr>\n",
       "  </tbody>\n",
       "</table>\n",
       "<p>5 rows × 785 columns</p>\n",
       "</div>"
      ],
      "text/plain": [
       "   label  pixel0  pixel1  pixel2  pixel3  pixel4  pixel5  pixel6  pixel7  \\\n",
       "0    1.0     0.0     0.0     0.0     0.0     0.0     0.0     0.0     0.0   \n",
       "1    0.0     0.0     0.0     0.0     0.0     0.0     0.0     0.0     0.0   \n",
       "2    1.0     0.0     0.0     0.0     0.0     0.0     0.0     0.0     0.0   \n",
       "3    4.0     0.0     0.0     0.0     0.0     0.0     0.0     0.0     0.0   \n",
       "4    0.0     0.0     0.0     0.0     0.0     0.0     0.0     0.0     0.0   \n",
       "\n",
       "   pixel8  ...  pixel774  pixel775  pixel776  pixel777  pixel778  pixel779  \\\n",
       "0     0.0  ...       0.0       0.0       0.0       0.0       0.0       0.0   \n",
       "1     0.0  ...       0.0       0.0       0.0       0.0       0.0       0.0   \n",
       "2     0.0  ...       0.0       0.0       0.0       0.0       0.0       0.0   \n",
       "3     0.0  ...       0.0       0.0       0.0       0.0       0.0       0.0   \n",
       "4     0.0  ...       0.0       0.0       0.0       0.0       0.0       0.0   \n",
       "\n",
       "   pixel780  pixel781  pixel782  pixel783  \n",
       "0       0.0       0.0       0.0       0.0  \n",
       "1       0.0       0.0       0.0       0.0  \n",
       "2       0.0       0.0       0.0       0.0  \n",
       "3       0.0       0.0       0.0       0.0  \n",
       "4       0.0       0.0       0.0       0.0  \n",
       "\n",
       "[5 rows x 785 columns]"
      ]
     },
     "execution_count": 32,
     "metadata": {},
     "output_type": "execute_result"
    }
   ],
   "source": [
    "train_data_main.head()"
   ]
  },
  {
   "cell_type": "code",
   "execution_count": 33,
   "metadata": {},
   "outputs": [
    {
     "data": {
      "text/html": [
       "<div>\n",
       "<style scoped>\n",
       "    .dataframe tbody tr th:only-of-type {\n",
       "        vertical-align: middle;\n",
       "    }\n",
       "\n",
       "    .dataframe tbody tr th {\n",
       "        vertical-align: top;\n",
       "    }\n",
       "\n",
       "    .dataframe thead th {\n",
       "        text-align: right;\n",
       "    }\n",
       "</style>\n",
       "<table border=\"1\" class=\"dataframe\">\n",
       "  <thead>\n",
       "    <tr style=\"text-align: right;\">\n",
       "      <th></th>\n",
       "      <th>pixel0</th>\n",
       "      <th>pixel1</th>\n",
       "      <th>pixel2</th>\n",
       "      <th>pixel3</th>\n",
       "      <th>pixel4</th>\n",
       "      <th>pixel5</th>\n",
       "      <th>pixel6</th>\n",
       "      <th>pixel7</th>\n",
       "      <th>pixel8</th>\n",
       "      <th>pixel9</th>\n",
       "      <th>...</th>\n",
       "      <th>pixel774</th>\n",
       "      <th>pixel775</th>\n",
       "      <th>pixel776</th>\n",
       "      <th>pixel777</th>\n",
       "      <th>pixel778</th>\n",
       "      <th>pixel779</th>\n",
       "      <th>pixel780</th>\n",
       "      <th>pixel781</th>\n",
       "      <th>pixel782</th>\n",
       "      <th>pixel783</th>\n",
       "    </tr>\n",
       "  </thead>\n",
       "  <tbody>\n",
       "    <tr>\n",
       "      <th>0</th>\n",
       "      <td>0.0</td>\n",
       "      <td>0.0</td>\n",
       "      <td>0.0</td>\n",
       "      <td>0.0</td>\n",
       "      <td>0.0</td>\n",
       "      <td>0.0</td>\n",
       "      <td>0.0</td>\n",
       "      <td>0.0</td>\n",
       "      <td>0.0</td>\n",
       "      <td>0.0</td>\n",
       "      <td>...</td>\n",
       "      <td>0.0</td>\n",
       "      <td>0.0</td>\n",
       "      <td>0.0</td>\n",
       "      <td>0.0</td>\n",
       "      <td>0.0</td>\n",
       "      <td>0.0</td>\n",
       "      <td>0.0</td>\n",
       "      <td>0.0</td>\n",
       "      <td>0.0</td>\n",
       "      <td>0.0</td>\n",
       "    </tr>\n",
       "    <tr>\n",
       "      <th>1</th>\n",
       "      <td>0.0</td>\n",
       "      <td>0.0</td>\n",
       "      <td>0.0</td>\n",
       "      <td>0.0</td>\n",
       "      <td>0.0</td>\n",
       "      <td>0.0</td>\n",
       "      <td>0.0</td>\n",
       "      <td>0.0</td>\n",
       "      <td>0.0</td>\n",
       "      <td>0.0</td>\n",
       "      <td>...</td>\n",
       "      <td>0.0</td>\n",
       "      <td>0.0</td>\n",
       "      <td>0.0</td>\n",
       "      <td>0.0</td>\n",
       "      <td>0.0</td>\n",
       "      <td>0.0</td>\n",
       "      <td>0.0</td>\n",
       "      <td>0.0</td>\n",
       "      <td>0.0</td>\n",
       "      <td>0.0</td>\n",
       "    </tr>\n",
       "    <tr>\n",
       "      <th>2</th>\n",
       "      <td>0.0</td>\n",
       "      <td>0.0</td>\n",
       "      <td>0.0</td>\n",
       "      <td>0.0</td>\n",
       "      <td>0.0</td>\n",
       "      <td>0.0</td>\n",
       "      <td>0.0</td>\n",
       "      <td>0.0</td>\n",
       "      <td>0.0</td>\n",
       "      <td>0.0</td>\n",
       "      <td>...</td>\n",
       "      <td>0.0</td>\n",
       "      <td>0.0</td>\n",
       "      <td>0.0</td>\n",
       "      <td>0.0</td>\n",
       "      <td>0.0</td>\n",
       "      <td>0.0</td>\n",
       "      <td>0.0</td>\n",
       "      <td>0.0</td>\n",
       "      <td>0.0</td>\n",
       "      <td>0.0</td>\n",
       "    </tr>\n",
       "    <tr>\n",
       "      <th>3</th>\n",
       "      <td>0.0</td>\n",
       "      <td>0.0</td>\n",
       "      <td>0.0</td>\n",
       "      <td>0.0</td>\n",
       "      <td>0.0</td>\n",
       "      <td>0.0</td>\n",
       "      <td>0.0</td>\n",
       "      <td>0.0</td>\n",
       "      <td>0.0</td>\n",
       "      <td>0.0</td>\n",
       "      <td>...</td>\n",
       "      <td>0.0</td>\n",
       "      <td>0.0</td>\n",
       "      <td>0.0</td>\n",
       "      <td>0.0</td>\n",
       "      <td>0.0</td>\n",
       "      <td>0.0</td>\n",
       "      <td>0.0</td>\n",
       "      <td>0.0</td>\n",
       "      <td>0.0</td>\n",
       "      <td>0.0</td>\n",
       "    </tr>\n",
       "    <tr>\n",
       "      <th>4</th>\n",
       "      <td>0.0</td>\n",
       "      <td>0.0</td>\n",
       "      <td>0.0</td>\n",
       "      <td>0.0</td>\n",
       "      <td>0.0</td>\n",
       "      <td>0.0</td>\n",
       "      <td>0.0</td>\n",
       "      <td>0.0</td>\n",
       "      <td>0.0</td>\n",
       "      <td>0.0</td>\n",
       "      <td>...</td>\n",
       "      <td>0.0</td>\n",
       "      <td>0.0</td>\n",
       "      <td>0.0</td>\n",
       "      <td>0.0</td>\n",
       "      <td>0.0</td>\n",
       "      <td>0.0</td>\n",
       "      <td>0.0</td>\n",
       "      <td>0.0</td>\n",
       "      <td>0.0</td>\n",
       "      <td>0.0</td>\n",
       "    </tr>\n",
       "  </tbody>\n",
       "</table>\n",
       "<p>5 rows × 784 columns</p>\n",
       "</div>"
      ],
      "text/plain": [
       "   pixel0  pixel1  pixel2  pixel3  pixel4  pixel5  pixel6  pixel7  pixel8  \\\n",
       "0     0.0     0.0     0.0     0.0     0.0     0.0     0.0     0.0     0.0   \n",
       "1     0.0     0.0     0.0     0.0     0.0     0.0     0.0     0.0     0.0   \n",
       "2     0.0     0.0     0.0     0.0     0.0     0.0     0.0     0.0     0.0   \n",
       "3     0.0     0.0     0.0     0.0     0.0     0.0     0.0     0.0     0.0   \n",
       "4     0.0     0.0     0.0     0.0     0.0     0.0     0.0     0.0     0.0   \n",
       "\n",
       "   pixel9  ...  pixel774  pixel775  pixel776  pixel777  pixel778  pixel779  \\\n",
       "0     0.0  ...       0.0       0.0       0.0       0.0       0.0       0.0   \n",
       "1     0.0  ...       0.0       0.0       0.0       0.0       0.0       0.0   \n",
       "2     0.0  ...       0.0       0.0       0.0       0.0       0.0       0.0   \n",
       "3     0.0  ...       0.0       0.0       0.0       0.0       0.0       0.0   \n",
       "4     0.0  ...       0.0       0.0       0.0       0.0       0.0       0.0   \n",
       "\n",
       "   pixel780  pixel781  pixel782  pixel783  \n",
       "0       0.0       0.0       0.0       0.0  \n",
       "1       0.0       0.0       0.0       0.0  \n",
       "2       0.0       0.0       0.0       0.0  \n",
       "3       0.0       0.0       0.0       0.0  \n",
       "4       0.0       0.0       0.0       0.0  \n",
       "\n",
       "[5 rows x 784 columns]"
      ]
     },
     "execution_count": 33,
     "metadata": {},
     "output_type": "execute_result"
    }
   ],
   "source": [
    "test_data_main.head()"
   ]
  },
  {
   "cell_type": "code",
   "execution_count": 34,
   "metadata": {},
   "outputs": [
    {
     "data": {
      "text/plain": [
       "0    1.0\n",
       "1    0.0\n",
       "2    1.0\n",
       "3    4.0\n",
       "4    0.0\n",
       "Name: label, dtype: float32"
      ]
     },
     "execution_count": 34,
     "metadata": {},
     "output_type": "execute_result"
    }
   ],
   "source": [
    "y_train_full = train_data_main['label']\n",
    "y_train_full.head()"
   ]
  },
  {
   "cell_type": "code",
   "execution_count": 35,
   "metadata": {},
   "outputs": [
    {
     "data": {
      "text/html": [
       "<div>\n",
       "<style scoped>\n",
       "    .dataframe tbody tr th:only-of-type {\n",
       "        vertical-align: middle;\n",
       "    }\n",
       "\n",
       "    .dataframe tbody tr th {\n",
       "        vertical-align: top;\n",
       "    }\n",
       "\n",
       "    .dataframe thead th {\n",
       "        text-align: right;\n",
       "    }\n",
       "</style>\n",
       "<table border=\"1\" class=\"dataframe\">\n",
       "  <thead>\n",
       "    <tr style=\"text-align: right;\">\n",
       "      <th></th>\n",
       "      <th>pixel0</th>\n",
       "      <th>pixel1</th>\n",
       "      <th>pixel2</th>\n",
       "      <th>pixel3</th>\n",
       "      <th>pixel4</th>\n",
       "      <th>pixel5</th>\n",
       "      <th>pixel6</th>\n",
       "      <th>pixel7</th>\n",
       "      <th>pixel8</th>\n",
       "      <th>pixel9</th>\n",
       "      <th>...</th>\n",
       "      <th>pixel774</th>\n",
       "      <th>pixel775</th>\n",
       "      <th>pixel776</th>\n",
       "      <th>pixel777</th>\n",
       "      <th>pixel778</th>\n",
       "      <th>pixel779</th>\n",
       "      <th>pixel780</th>\n",
       "      <th>pixel781</th>\n",
       "      <th>pixel782</th>\n",
       "      <th>pixel783</th>\n",
       "    </tr>\n",
       "  </thead>\n",
       "  <tbody>\n",
       "    <tr>\n",
       "      <th>0</th>\n",
       "      <td>0.0</td>\n",
       "      <td>0.0</td>\n",
       "      <td>0.0</td>\n",
       "      <td>0.0</td>\n",
       "      <td>0.0</td>\n",
       "      <td>0.0</td>\n",
       "      <td>0.0</td>\n",
       "      <td>0.0</td>\n",
       "      <td>0.0</td>\n",
       "      <td>0.0</td>\n",
       "      <td>...</td>\n",
       "      <td>0.0</td>\n",
       "      <td>0.0</td>\n",
       "      <td>0.0</td>\n",
       "      <td>0.0</td>\n",
       "      <td>0.0</td>\n",
       "      <td>0.0</td>\n",
       "      <td>0.0</td>\n",
       "      <td>0.0</td>\n",
       "      <td>0.0</td>\n",
       "      <td>0.0</td>\n",
       "    </tr>\n",
       "    <tr>\n",
       "      <th>1</th>\n",
       "      <td>0.0</td>\n",
       "      <td>0.0</td>\n",
       "      <td>0.0</td>\n",
       "      <td>0.0</td>\n",
       "      <td>0.0</td>\n",
       "      <td>0.0</td>\n",
       "      <td>0.0</td>\n",
       "      <td>0.0</td>\n",
       "      <td>0.0</td>\n",
       "      <td>0.0</td>\n",
       "      <td>...</td>\n",
       "      <td>0.0</td>\n",
       "      <td>0.0</td>\n",
       "      <td>0.0</td>\n",
       "      <td>0.0</td>\n",
       "      <td>0.0</td>\n",
       "      <td>0.0</td>\n",
       "      <td>0.0</td>\n",
       "      <td>0.0</td>\n",
       "      <td>0.0</td>\n",
       "      <td>0.0</td>\n",
       "    </tr>\n",
       "    <tr>\n",
       "      <th>2</th>\n",
       "      <td>0.0</td>\n",
       "      <td>0.0</td>\n",
       "      <td>0.0</td>\n",
       "      <td>0.0</td>\n",
       "      <td>0.0</td>\n",
       "      <td>0.0</td>\n",
       "      <td>0.0</td>\n",
       "      <td>0.0</td>\n",
       "      <td>0.0</td>\n",
       "      <td>0.0</td>\n",
       "      <td>...</td>\n",
       "      <td>0.0</td>\n",
       "      <td>0.0</td>\n",
       "      <td>0.0</td>\n",
       "      <td>0.0</td>\n",
       "      <td>0.0</td>\n",
       "      <td>0.0</td>\n",
       "      <td>0.0</td>\n",
       "      <td>0.0</td>\n",
       "      <td>0.0</td>\n",
       "      <td>0.0</td>\n",
       "    </tr>\n",
       "    <tr>\n",
       "      <th>3</th>\n",
       "      <td>0.0</td>\n",
       "      <td>0.0</td>\n",
       "      <td>0.0</td>\n",
       "      <td>0.0</td>\n",
       "      <td>0.0</td>\n",
       "      <td>0.0</td>\n",
       "      <td>0.0</td>\n",
       "      <td>0.0</td>\n",
       "      <td>0.0</td>\n",
       "      <td>0.0</td>\n",
       "      <td>...</td>\n",
       "      <td>0.0</td>\n",
       "      <td>0.0</td>\n",
       "      <td>0.0</td>\n",
       "      <td>0.0</td>\n",
       "      <td>0.0</td>\n",
       "      <td>0.0</td>\n",
       "      <td>0.0</td>\n",
       "      <td>0.0</td>\n",
       "      <td>0.0</td>\n",
       "      <td>0.0</td>\n",
       "    </tr>\n",
       "    <tr>\n",
       "      <th>4</th>\n",
       "      <td>0.0</td>\n",
       "      <td>0.0</td>\n",
       "      <td>0.0</td>\n",
       "      <td>0.0</td>\n",
       "      <td>0.0</td>\n",
       "      <td>0.0</td>\n",
       "      <td>0.0</td>\n",
       "      <td>0.0</td>\n",
       "      <td>0.0</td>\n",
       "      <td>0.0</td>\n",
       "      <td>...</td>\n",
       "      <td>0.0</td>\n",
       "      <td>0.0</td>\n",
       "      <td>0.0</td>\n",
       "      <td>0.0</td>\n",
       "      <td>0.0</td>\n",
       "      <td>0.0</td>\n",
       "      <td>0.0</td>\n",
       "      <td>0.0</td>\n",
       "      <td>0.0</td>\n",
       "      <td>0.0</td>\n",
       "    </tr>\n",
       "  </tbody>\n",
       "</table>\n",
       "<p>5 rows × 784 columns</p>\n",
       "</div>"
      ],
      "text/plain": [
       "   pixel0  pixel1  pixel2  pixel3  pixel4  pixel5  pixel6  pixel7  pixel8  \\\n",
       "0     0.0     0.0     0.0     0.0     0.0     0.0     0.0     0.0     0.0   \n",
       "1     0.0     0.0     0.0     0.0     0.0     0.0     0.0     0.0     0.0   \n",
       "2     0.0     0.0     0.0     0.0     0.0     0.0     0.0     0.0     0.0   \n",
       "3     0.0     0.0     0.0     0.0     0.0     0.0     0.0     0.0     0.0   \n",
       "4     0.0     0.0     0.0     0.0     0.0     0.0     0.0     0.0     0.0   \n",
       "\n",
       "   pixel9  ...  pixel774  pixel775  pixel776  pixel777  pixel778  pixel779  \\\n",
       "0     0.0  ...       0.0       0.0       0.0       0.0       0.0       0.0   \n",
       "1     0.0  ...       0.0       0.0       0.0       0.0       0.0       0.0   \n",
       "2     0.0  ...       0.0       0.0       0.0       0.0       0.0       0.0   \n",
       "3     0.0  ...       0.0       0.0       0.0       0.0       0.0       0.0   \n",
       "4     0.0  ...       0.0       0.0       0.0       0.0       0.0       0.0   \n",
       "\n",
       "   pixel780  pixel781  pixel782  pixel783  \n",
       "0       0.0       0.0       0.0       0.0  \n",
       "1       0.0       0.0       0.0       0.0  \n",
       "2       0.0       0.0       0.0       0.0  \n",
       "3       0.0       0.0       0.0       0.0  \n",
       "4       0.0       0.0       0.0       0.0  \n",
       "\n",
       "[5 rows x 784 columns]"
      ]
     },
     "execution_count": 35,
     "metadata": {},
     "output_type": "execute_result"
    }
   ],
   "source": [
    "X_train_full = train_data_main.drop(['label'],axis =1)\n",
    "X_train_full.head()"
   ]
  },
  {
   "cell_type": "code",
   "execution_count": 36,
   "metadata": {},
   "outputs": [],
   "source": [
    "#Normalization\n",
    "X_train_full =  X_train_full/255\n",
    "X_test_full = test_data_main/255"
   ]
  },
  {
   "cell_type": "code",
   "execution_count": 37,
   "metadata": {},
   "outputs": [],
   "source": [
    "#Reshape\n",
    "X_train_full = X_train_full.values.reshape(-1, 28, 28, 1)\n",
    "X_test_full = X_test_full.values.reshape(-1,28,28,1)"
   ]
  },
  {
   "cell_type": "code",
   "execution_count": 112,
   "metadata": {},
   "outputs": [
    {
     "name": "stdout",
     "output_type": "stream",
     "text": [
      "\t Digit :  1.0\n"
     ]
    },
    {
     "data": {
      "image/png": "[encoded data removed]",
      "text/plain": [
       "<Figure size 432x288 with 1 Axes>"
      ]
     },
     "metadata": {
      "needs_background": "light"
     },
     "output_type": "display_data"
    }
   ],
   "source": [
    "i = 0 #item number\n",
    "plt.imshow(X_train_full[i])\n",
    "print(\"\\t Digit : \",y_train_full[i])"
   ]
  },
  {
   "cell_type": "code",
   "execution_count": 42,
   "metadata": {},
   "outputs": [],
   "source": [
    "X_valid , X_train  = X_train_full[:5000],X_train_full[5000:]\n",
    "y_valid , y_train  = y_train_full[:5000],y_train_full[5000:]\n",
    "X_test = X_test_full"
   ]
  },
  {
   "cell_type": "code",
   "execution_count": 43,
   "metadata": {},
   "outputs": [],
   "source": [
    "np.random.seed(42)\n",
    "tf.random.set_seed(42)"
   ]
  },
  {
   "cell_type": "code",
   "execution_count": 44,
   "metadata": {},
   "outputs": [],
   "source": [
    "model = keras.models.Sequential()"
   ]
  },
  {
   "cell_type": "code",
   "execution_count": 45,
   "metadata": {},
   "outputs": [],
   "source": [
    "model.add(keras.layers.Flatten(input_shape=[28,28]))\n",
    "model.add(keras.layers.Dense(300, activation='relu'))\n",
    "model.add(keras.layers.Dense(100, activation='relu'))\n",
    "model.add(keras.layers.Dense(10, activation='softmax'))"
   ]
  },
  {
   "cell_type": "code",
   "execution_count": 46,
   "metadata": {},
   "outputs": [
    {
     "name": "stdout",
     "output_type": "stream",
     "text": [
      "Model: \"sequential\"\n",
      "_________________________________________________________________\n",
      "Layer (type)                 Output Shape              Param #   \n",
      "=================================================================\n",
      "flatten (Flatten)            (None, 784)               0         \n",
      "_________________________________________________________________\n",
      "dense (Dense)                (None, 300)               235500    \n",
      "_________________________________________________________________\n",
      "dense_1 (Dense)              (None, 100)               30100     \n",
      "_________________________________________________________________\n",
      "dense_2 (Dense)              (None, 10)                1010      \n",
      "=================================================================\n",
      "Total params: 266,610\n",
      "Trainable params: 266,610\n",
      "Non-trainable params: 0\n",
      "_________________________________________________________________\n"
     ]
    }
   ],
   "source": [
    "model.summary()"
   ]
  },
  {
   "cell_type": "code",
   "execution_count": 49,
   "metadata": {},
   "outputs": [
    {
     "name": "stdout",
     "output_type": "stream",
     "text": [
      "[[ 0.02448617 -0.00877795 -0.02189048 ... -0.02766046  0.03859074\n",
      "  -0.06889391]\n",
      " [ 0.00476504 -0.03105379 -0.0586676  ...  0.00602964 -0.02763776\n",
      "  -0.04165364]\n",
      " [-0.06189284 -0.06901957  0.07102345 ... -0.04238207  0.07121518\n",
      "  -0.07331658]\n",
      " ...\n",
      " [-0.03048757  0.02155137 -0.05400612 ... -0.00113463  0.00228987\n",
      "   0.05581069]\n",
      " [ 0.07061854 -0.06960931  0.07038955 ... -0.00384101  0.00034875\n",
      "   0.02878492]\n",
      " [-0.06022581  0.01577859 -0.02585464 ... -0.00527829  0.00272203\n",
      "  -0.06793761]]\n",
      "[0. 0. 0. 0. 0. 0. 0. 0. 0. 0. 0. 0. 0. 0. 0. 0. 0. 0. 0. 0. 0. 0. 0. 0.\n",
      " 0. 0. 0. 0. 0. 0. 0. 0. 0. 0. 0. 0. 0. 0. 0. 0. 0. 0. 0. 0. 0. 0. 0. 0.\n",
      " 0. 0. 0. 0. 0. 0. 0. 0. 0. 0. 0. 0. 0. 0. 0. 0. 0. 0. 0. 0. 0. 0. 0. 0.\n",
      " 0. 0. 0. 0. 0. 0. 0. 0. 0. 0. 0. 0. 0. 0. 0. 0. 0. 0. 0. 0. 0. 0. 0. 0.\n",
      " 0. 0. 0. 0. 0. 0. 0. 0. 0. 0. 0. 0. 0. 0. 0. 0. 0. 0. 0. 0. 0. 0. 0. 0.\n",
      " 0. 0. 0. 0. 0. 0. 0. 0. 0. 0. 0. 0. 0. 0. 0. 0. 0. 0. 0. 0. 0. 0. 0. 0.\n",
      " 0. 0. 0. 0. 0. 0. 0. 0. 0. 0. 0. 0. 0. 0. 0. 0. 0. 0. 0. 0. 0. 0. 0. 0.\n",
      " 0. 0. 0. 0. 0. 0. 0. 0. 0. 0. 0. 0. 0. 0. 0. 0. 0. 0. 0. 0. 0. 0. 0. 0.\n",
      " 0. 0. 0. 0. 0. 0. 0. 0. 0. 0. 0. 0. 0. 0. 0. 0. 0. 0. 0. 0. 0. 0. 0. 0.\n",
      " 0. 0. 0. 0. 0. 0. 0. 0. 0. 0. 0. 0. 0. 0. 0. 0. 0. 0. 0. 0. 0. 0. 0. 0.\n",
      " 0. 0. 0. 0. 0. 0. 0. 0. 0. 0. 0. 0. 0. 0. 0. 0. 0. 0. 0. 0. 0. 0. 0. 0.\n",
      " 0. 0. 0. 0. 0. 0. 0. 0. 0. 0. 0. 0. 0. 0. 0. 0. 0. 0. 0. 0. 0. 0. 0. 0.\n",
      " 0. 0. 0. 0. 0. 0. 0. 0. 0. 0. 0. 0.]\n"
     ]
    }
   ],
   "source": [
    "w , b = model.layers[1].get_weights()\n",
    "print(w)\n",
    "print(b)"
   ]
  },
  {
   "cell_type": "code",
   "execution_count": 50,
   "metadata": {},
   "outputs": [],
   "source": [
    "model.compile(loss=\"sparse_categorical_crossentropy\",  #for labled output\n",
    "              optimizer = \"sgd\", #stochastic gradient desent\n",
    "              metrics=[\"accuracy\"])"
   ]
  },
  {
   "cell_type": "code",
   "execution_count": 51,
   "metadata": {},
   "outputs": [
    {
     "name": "stdout",
     "output_type": "stream",
     "text": [
      "Epoch 1/100\n",
      "1157/1157 [==============================] - 3s 2ms/step - loss: 0.7392 - accuracy: 0.8126 - val_loss: 0.3770 - val_accuracy: 0.8942\n",
      "Epoch 2/100\n",
      "1157/1157 [==============================] - 3s 2ms/step - loss: 0.3273 - accuracy: 0.9066 - val_loss: 0.2907 - val_accuracy: 0.9190\n",
      "Epoch 3/100\n",
      "1157/1157 [==============================] - 3s 2ms/step - loss: 0.2724 - accuracy: 0.9220 - val_loss: 0.2553 - val_accuracy: 0.9294\n",
      "Epoch 4/100\n",
      "1157/1157 [==============================] - 3s 2ms/step - loss: 0.2388 - accuracy: 0.9308 - val_loss: 0.2382 - val_accuracy: 0.9344\n",
      "Epoch 5/100\n",
      "1157/1157 [==============================] - 3s 2ms/step - loss: 0.2120 - accuracy: 0.9388 - val_loss: 0.2059 - val_accuracy: 0.9424\n",
      "Epoch 6/100\n",
      "1157/1157 [==============================] - 3s 2ms/step - loss: 0.1902 - accuracy: 0.9456 - val_loss: 0.1897 - val_accuracy: 0.9460\n",
      "Epoch 7/100\n",
      "1157/1157 [==============================] - 3s 2ms/step - loss: 0.1727 - accuracy: 0.9512 - val_loss: 0.1770 - val_accuracy: 0.9496\n",
      "Epoch 8/100\n",
      "1157/1157 [==============================] - 3s 2ms/step - loss: 0.1568 - accuracy: 0.9558 - val_loss: 0.1646 - val_accuracy: 0.9538\n",
      "Epoch 9/100\n",
      "1157/1157 [==============================] - 3s 2ms/step - loss: 0.1443 - accuracy: 0.9588 - val_loss: 0.1619 - val_accuracy: 0.9502\n",
      "Epoch 10/100\n",
      "1157/1157 [==============================] - 3s 2ms/step - loss: 0.1330 - accuracy: 0.9622 - val_loss: 0.1439 - val_accuracy: 0.9584\n",
      "Epoch 11/100\n",
      "1157/1157 [==============================] - 3s 2ms/step - loss: 0.1234 - accuracy: 0.9649 - val_loss: 0.1377 - val_accuracy: 0.9592\n",
      "Epoch 12/100\n",
      "1157/1157 [==============================] - 3s 2ms/step - loss: 0.1142 - accuracy: 0.9684 - val_loss: 0.1313 - val_accuracy: 0.9636\n",
      "Epoch 13/100\n",
      "1157/1157 [==============================] - 3s 2ms/step - loss: 0.1063 - accuracy: 0.9703 - val_loss: 0.1281 - val_accuracy: 0.9634\n",
      "Epoch 14/100\n",
      "1157/1157 [==============================] - 3s 2ms/step - loss: 0.0993 - accuracy: 0.9718 - val_loss: 0.1231 - val_accuracy: 0.9628\n",
      "Epoch 15/100\n",
      "1157/1157 [==============================] - 3s 2ms/step - loss: 0.0925 - accuracy: 0.9739 - val_loss: 0.1166 - val_accuracy: 0.9636\n",
      "Epoch 16/100\n",
      "1157/1157 [==============================] - 3s 2ms/step - loss: 0.0873 - accuracy: 0.9753 - val_loss: 0.1170 - val_accuracy: 0.9652\n",
      "Epoch 17/100\n",
      "1157/1157 [==============================] - 3s 2ms/step - loss: 0.0817 - accuracy: 0.9773 - val_loss: 0.1109 - val_accuracy: 0.9700\n",
      "Epoch 18/100\n",
      "1157/1157 [==============================] - 3s 3ms/step - loss: 0.0765 - accuracy: 0.9791 - val_loss: 0.1099 - val_accuracy: 0.9690\n",
      "Epoch 19/100\n",
      "1157/1157 [==============================] - 3s 2ms/step - loss: 0.0724 - accuracy: 0.9802 - val_loss: 0.1035 - val_accuracy: 0.9702\n",
      "Epoch 20/100\n",
      "1157/1157 [==============================] - 3s 2ms/step - loss: 0.0682 - accuracy: 0.9817 - val_loss: 0.1047 - val_accuracy: 0.9688\n",
      "Epoch 21/100\n",
      "1157/1157 [==============================] - 3s 2ms/step - loss: 0.0641 - accuracy: 0.9826 - val_loss: 0.1067 - val_accuracy: 0.9692\n",
      "Epoch 22/100\n",
      "1157/1157 [==============================] - 3s 2ms/step - loss: 0.0604 - accuracy: 0.9841 - val_loss: 0.0985 - val_accuracy: 0.9722\n",
      "Epoch 23/100\n",
      "1157/1157 [==============================] - 3s 2ms/step - loss: 0.0570 - accuracy: 0.9849 - val_loss: 0.0983 - val_accuracy: 0.9708\n",
      "Epoch 24/100\n",
      "1157/1157 [==============================] - 3s 2ms/step - loss: 0.0541 - accuracy: 0.9860 - val_loss: 0.1014 - val_accuracy: 0.9708\n",
      "Epoch 25/100\n",
      "1157/1157 [==============================] - 3s 2ms/step - loss: 0.0511 - accuracy: 0.9867 - val_loss: 0.0955 - val_accuracy: 0.9710\n",
      "Epoch 26/100\n",
      "1157/1157 [==============================] - 2s 2ms/step - loss: 0.0485 - accuracy: 0.9873 - val_loss: 0.0953 - val_accuracy: 0.9704\n",
      "Epoch 27/100\n",
      "1157/1157 [==============================] - 3s 2ms/step - loss: 0.0460 - accuracy: 0.9882 - val_loss: 0.0934 - val_accuracy: 0.9720\n",
      "Epoch 28/100\n",
      "1157/1157 [==============================] - 2s 2ms/step - loss: 0.0431 - accuracy: 0.9894 - val_loss: 0.0914 - val_accuracy: 0.9740\n",
      "Epoch 29/100\n",
      "1157/1157 [==============================] - 2s 2ms/step - loss: 0.0408 - accuracy: 0.9896 - val_loss: 0.0906 - val_accuracy: 0.9726\n",
      "Epoch 30/100\n",
      "1157/1157 [==============================] - 2s 2ms/step - loss: 0.0388 - accuracy: 0.9909 - val_loss: 0.0914 - val_accuracy: 0.9738\n",
      "Epoch 31/100\n",
      "1157/1157 [==============================] - 2s 2ms/step - loss: 0.0368 - accuracy: 0.9915 - val_loss: 0.0889 - val_accuracy: 0.9736\n",
      "Epoch 32/100\n",
      "1157/1157 [==============================] - 2s 2ms/step - loss: 0.0350 - accuracy: 0.9921 - val_loss: 0.0870 - val_accuracy: 0.9742\n",
      "Epoch 33/100\n",
      "1157/1157 [==============================] - 2s 2ms/step - loss: 0.0332 - accuracy: 0.9926 - val_loss: 0.0863 - val_accuracy: 0.9748\n",
      "Epoch 34/100\n",
      "1157/1157 [==============================] - 3s 2ms/step - loss: 0.0313 - accuracy: 0.9935 - val_loss: 0.0870 - val_accuracy: 0.9742\n",
      "Epoch 35/100\n",
      "1157/1157 [==============================] - 3s 2ms/step - loss: 0.0298 - accuracy: 0.9940 - val_loss: 0.0862 - val_accuracy: 0.9746\n",
      "Epoch 36/100\n",
      "1157/1157 [==============================] - 3s 2ms/step - loss: 0.0283 - accuracy: 0.9944 - val_loss: 0.0846 - val_accuracy: 0.9760\n",
      "Epoch 37/100\n",
      "1157/1157 [==============================] - 3s 2ms/step - loss: 0.0268 - accuracy: 0.9947 - val_loss: 0.0859 - val_accuracy: 0.9754\n",
      "Epoch 38/100\n",
      "1157/1157 [==============================] - 3s 2ms/step - loss: 0.0256 - accuracy: 0.9953 - val_loss: 0.0827 - val_accuracy: 0.9778\n",
      "Epoch 39/100\n",
      "1157/1157 [==============================] - 3s 2ms/step - loss: 0.0242 - accuracy: 0.9958 - val_loss: 0.0837 - val_accuracy: 0.9750\n",
      "Epoch 40/100\n",
      "1157/1157 [==============================] - 3s 2ms/step - loss: 0.0232 - accuracy: 0.9958 - val_loss: 0.0855 - val_accuracy: 0.9752\n",
      "Epoch 41/100\n",
      "1157/1157 [==============================] - 2s 2ms/step - loss: 0.0218 - accuracy: 0.9965 - val_loss: 0.0835 - val_accuracy: 0.9764\n",
      "Epoch 42/100\n",
      "1157/1157 [==============================] - 2s 2ms/step - loss: 0.0208 - accuracy: 0.9966 - val_loss: 0.0839 - val_accuracy: 0.9770\n",
      "Epoch 43/100\n",
      "1157/1157 [==============================] - 4s 3ms/step - loss: 0.0198 - accuracy: 0.9970 - val_loss: 0.0906 - val_accuracy: 0.9740\n",
      "Epoch 44/100\n",
      "1157/1157 [==============================] - 4s 4ms/step - loss: 0.0189 - accuracy: 0.9969 - val_loss: 0.0823 - val_accuracy: 0.9766\n",
      "Epoch 45/100\n",
      "1157/1157 [==============================] - 4s 3ms/step - loss: 0.0181 - accuracy: 0.9974 - val_loss: 0.0839 - val_accuracy: 0.9762\n",
      "Epoch 46/100\n",
      "1157/1157 [==============================] - 3s 2ms/step - loss: 0.0171 - accuracy: 0.9975 - val_loss: 0.0829 - val_accuracy: 0.9770\n",
      "Epoch 47/100\n",
      "1157/1157 [==============================] - 2s 2ms/step - loss: 0.0165 - accuracy: 0.9980 - val_loss: 0.0820 - val_accuracy: 0.9776\n",
      "Epoch 48/100\n",
      "1157/1157 [==============================] - 2s 2ms/step - loss: 0.0157 - accuracy: 0.9981 - val_loss: 0.0816 - val_accuracy: 0.9774\n",
      "Epoch 49/100\n",
      "1157/1157 [==============================] - 2s 2ms/step - loss: 0.0149 - accuracy: 0.9983 - val_loss: 0.0813 - val_accuracy: 0.9786\n",
      "Epoch 50/100\n",
      "1157/1157 [==============================] - 2s 2ms/step - loss: 0.0142 - accuracy: 0.9985 - val_loss: 0.0798 - val_accuracy: 0.9784\n",
      "Epoch 51/100\n",
      "1157/1157 [==============================] - 2s 2ms/step - loss: 0.0137 - accuracy: 0.9985 - val_loss: 0.0813 - val_accuracy: 0.9770\n",
      "Epoch 52/100\n",
      "1157/1157 [==============================] - 2s 2ms/step - loss: 0.0130 - accuracy: 0.9988 - val_loss: 0.0810 - val_accuracy: 0.9780\n",
      "Epoch 53/100\n",
      "1157/1157 [==============================] - 3s 2ms/step - loss: 0.0125 - accuracy: 0.9987 - val_loss: 0.0809 - val_accuracy: 0.9778\n",
      "Epoch 54/100\n",
      "1157/1157 [==============================] - 3s 2ms/step - loss: 0.0119 - accuracy: 0.9990 - val_loss: 0.0808 - val_accuracy: 0.9772\n",
      "Epoch 55/100\n",
      "1157/1157 [==============================] - 2s 2ms/step - loss: 0.0115 - accuracy: 0.9992 - val_loss: 0.0795 - val_accuracy: 0.9778\n",
      "Epoch 56/100\n",
      "1157/1157 [==============================] - 3s 3ms/step - loss: 0.0109 - accuracy: 0.9992 - val_loss: 0.0802 - val_accuracy: 0.9780\n",
      "Epoch 57/100\n"
     ]
    },
    {
     "name": "stdout",
     "output_type": "stream",
     "text": [
      "1157/1157 [==============================] - 2s 2ms/step - loss: 0.0105 - accuracy: 0.9992 - val_loss: 0.0802 - val_accuracy: 0.9774\n",
      "Epoch 58/100\n",
      "1157/1157 [==============================] - 3s 2ms/step - loss: 0.0101 - accuracy: 0.9994 - val_loss: 0.0813 - val_accuracy: 0.9780\n",
      "Epoch 59/100\n",
      "1157/1157 [==============================] - 3s 2ms/step - loss: 0.0097 - accuracy: 0.9995 - val_loss: 0.0807 - val_accuracy: 0.9788\n",
      "Epoch 60/100\n",
      "1157/1157 [==============================] - 3s 2ms/step - loss: 0.0094 - accuracy: 0.9994 - val_loss: 0.0798 - val_accuracy: 0.9784\n",
      "Epoch 61/100\n",
      "1157/1157 [==============================] - 3s 2ms/step - loss: 0.0090 - accuracy: 0.9995 - val_loss: 0.0810 - val_accuracy: 0.9772\n",
      "Epoch 62/100\n",
      "1157/1157 [==============================] - 3s 2ms/step - loss: 0.0086 - accuracy: 0.9996 - val_loss: 0.0807 - val_accuracy: 0.9782\n",
      "Epoch 63/100\n",
      "1157/1157 [==============================] - 3s 3ms/step - loss: 0.0083 - accuracy: 0.9996 - val_loss: 0.0819 - val_accuracy: 0.9780\n",
      "Epoch 64/100\n",
      "1157/1157 [==============================] - 3s 2ms/step - loss: 0.0080 - accuracy: 0.9996 - val_loss: 0.0842 - val_accuracy: 0.9774\n",
      "Epoch 65/100\n",
      "1157/1157 [==============================] - 3s 2ms/step - loss: 0.0078 - accuracy: 0.9997 - val_loss: 0.0797 - val_accuracy: 0.9786\n",
      "Epoch 66/100\n",
      "1157/1157 [==============================] - 3s 2ms/step - loss: 0.0074 - accuracy: 0.9998 - val_loss: 0.0821 - val_accuracy: 0.9782\n",
      "Epoch 67/100\n",
      "1157/1157 [==============================] - 3s 2ms/step - loss: 0.0071 - accuracy: 0.9997 - val_loss: 0.0795 - val_accuracy: 0.9792\n",
      "Epoch 68/100\n",
      "1157/1157 [==============================] - 3s 2ms/step - loss: 0.0069 - accuracy: 0.9997 - val_loss: 0.0803 - val_accuracy: 0.9780\n",
      "Epoch 69/100\n",
      "1157/1157 [==============================] - 3s 3ms/step - loss: 0.0067 - accuracy: 0.9998 - val_loss: 0.0805 - val_accuracy: 0.9782\n",
      "Epoch 70/100\n",
      "1157/1157 [==============================] - 3s 2ms/step - loss: 0.0065 - accuracy: 0.9998 - val_loss: 0.0813 - val_accuracy: 0.9784\n",
      "Epoch 71/100\n",
      "1157/1157 [==============================] - 3s 2ms/step - loss: 0.0063 - accuracy: 0.9998 - val_loss: 0.0815 - val_accuracy: 0.9790\n",
      "Epoch 72/100\n",
      "1157/1157 [==============================] - 3s 2ms/step - loss: 0.0060 - accuracy: 0.9999 - val_loss: 0.0799 - val_accuracy: 0.9786\n",
      "Epoch 73/100\n",
      "1157/1157 [==============================] - 3s 2ms/step - loss: 0.0059 - accuracy: 0.9999 - val_loss: 0.0812 - val_accuracy: 0.9786\n",
      "Epoch 74/100\n",
      "1157/1157 [==============================] - 3s 2ms/step - loss: 0.0057 - accuracy: 0.9999 - val_loss: 0.0814 - val_accuracy: 0.9784\n",
      "Epoch 75/100\n",
      "1157/1157 [==============================] - 3s 2ms/step - loss: 0.0055 - accuracy: 0.9998 - val_loss: 0.0808 - val_accuracy: 0.9794\n",
      "Epoch 76/100\n",
      "1157/1157 [==============================] - 3s 2ms/step - loss: 0.0053 - accuracy: 0.9999 - val_loss: 0.0805 - val_accuracy: 0.9788\n",
      "Epoch 77/100\n",
      "1157/1157 [==============================] - 3s 2ms/step - loss: 0.0052 - accuracy: 0.9999 - val_loss: 0.0815 - val_accuracy: 0.9788\n",
      "Epoch 78/100\n",
      "1157/1157 [==============================] - 3s 3ms/step - loss: 0.0051 - accuracy: 0.9999 - val_loss: 0.0815 - val_accuracy: 0.9790\n",
      "Epoch 79/100\n",
      "1157/1157 [==============================] - 3s 2ms/step - loss: 0.0049 - accuracy: 0.9999 - val_loss: 0.0809 - val_accuracy: 0.9788\n",
      "Epoch 80/100\n",
      "1157/1157 [==============================] - 3s 3ms/step - loss: 0.0047 - accuracy: 0.9999 - val_loss: 0.0815 - val_accuracy: 0.9778\n",
      "Epoch 81/100\n",
      "1157/1157 [==============================] - 3s 3ms/step - loss: 0.0046 - accuracy: 0.9999 - val_loss: 0.0814 - val_accuracy: 0.9790\n",
      "Epoch 82/100\n",
      "1157/1157 [==============================] - 2s 2ms/step - loss: 0.0045 - accuracy: 0.9999 - val_loss: 0.0823 - val_accuracy: 0.9780\n",
      "Epoch 83/100\n",
      "1157/1157 [==============================] - 2s 2ms/step - loss: 0.0044 - accuracy: 0.9999 - val_loss: 0.0820 - val_accuracy: 0.9786\n",
      "Epoch 84/100\n",
      "1157/1157 [==============================] - 2s 2ms/step - loss: 0.0043 - accuracy: 0.9999 - val_loss: 0.0820 - val_accuracy: 0.9784\n",
      "Epoch 85/100\n",
      "1157/1157 [==============================] - 3s 2ms/step - loss: 0.0041 - accuracy: 0.9999 - val_loss: 0.0824 - val_accuracy: 0.9780\n",
      "Epoch 86/100\n",
      "1157/1157 [==============================] - 2s 2ms/step - loss: 0.0040 - accuracy: 1.0000 - val_loss: 0.0823 - val_accuracy: 0.9786\n",
      "Epoch 87/100\n",
      "1157/1157 [==============================] - 2s 2ms/step - loss: 0.0039 - accuracy: 1.0000 - val_loss: 0.0819 - val_accuracy: 0.9786\n",
      "Epoch 88/100\n",
      "1157/1157 [==============================] - 2s 2ms/step - loss: 0.0038 - accuracy: 0.9999 - val_loss: 0.0821 - val_accuracy: 0.9788\n",
      "Epoch 89/100\n",
      "1157/1157 [==============================] - 2s 2ms/step - loss: 0.0037 - accuracy: 1.0000 - val_loss: 0.0825 - val_accuracy: 0.9790\n",
      "Epoch 90/100\n",
      "1157/1157 [==============================] - 3s 2ms/step - loss: 0.0037 - accuracy: 1.0000 - val_loss: 0.0825 - val_accuracy: 0.9786\n",
      "Epoch 91/100\n",
      "1157/1157 [==============================] - 3s 2ms/step - loss: 0.0036 - accuracy: 1.0000 - val_loss: 0.0828 - val_accuracy: 0.9778\n",
      "Epoch 92/100\n",
      "1157/1157 [==============================] - 3s 3ms/step - loss: 0.0035 - accuracy: 0.9999 - val_loss: 0.0825 - val_accuracy: 0.9792\n",
      "Epoch 93/100\n",
      "1157/1157 [==============================] - 3s 3ms/step - loss: 0.0034 - accuracy: 1.0000 - val_loss: 0.0832 - val_accuracy: 0.9792\n",
      "Epoch 94/100\n",
      "1157/1157 [==============================] - 3s 3ms/step - loss: 0.0033 - accuracy: 1.0000 - val_loss: 0.0834 - val_accuracy: 0.9788\n",
      "Epoch 95/100\n",
      "1157/1157 [==============================] - 3s 3ms/step - loss: 0.0033 - accuracy: 1.0000 - val_loss: 0.0838 - val_accuracy: 0.9780\n",
      "Epoch 96/100\n",
      "1157/1157 [==============================] - 3s 3ms/step - loss: 0.0032 - accuracy: 1.0000 - val_loss: 0.0832 - val_accuracy: 0.9784\n",
      "Epoch 97/100\n",
      "1157/1157 [==============================] - 3s 3ms/step - loss: 0.0031 - accuracy: 1.0000 - val_loss: 0.0834 - val_accuracy: 0.9786\n",
      "Epoch 98/100\n",
      "1157/1157 [==============================] - 3s 3ms/step - loss: 0.0031 - accuracy: 1.0000 - val_loss: 0.0835 - val_accuracy: 0.9788\n",
      "Epoch 99/100\n",
      "1157/1157 [==============================] - 4s 3ms/step - loss: 0.0030 - accuracy: 1.0000 - val_loss: 0.0831 - val_accuracy: 0.9786\n",
      "Epoch 100/100\n",
      "1157/1157 [==============================] - 3s 3ms/step - loss: 0.0029 - accuracy: 1.0000 - val_loss: 0.0845 - val_accuracy: 0.9786\n"
     ]
    }
   ],
   "source": [
    "model_hist = model.fit(X_train,y_train,epochs=100,validation_data=(X_valid,y_valid))"
   ]
  },
  {
   "cell_type": "code",
   "execution_count": 52,
   "metadata": {},
   "outputs": [
    {
     "data": {
      "text/plain": [
       "{'verbose': 1, 'epochs': 100, 'steps': 1157}"
      ]
     },
     "execution_count": 52,
     "metadata": {},
     "output_type": "execute_result"
    }
   ],
   "source": [
    "model_hist.params"
   ]
  },
  {
   "cell_type": "code",
   "execution_count": 53,
   "metadata": {},
   "outputs": [
    {
     "data": {
      "image/png": "[encoded data removed]",
      "text/plain": [
       "<Figure size 1440x504 with 1 Axes>"
      ]
     },
     "metadata": {
      "needs_background": "light"
     },
     "output_type": "display_data"
    }
   ],
   "source": [
    "pd.DataFrame(model_hist.history).plot(figsize =(20,7))\n",
    "plt.grid(True)\n",
    "plt.gca().set_ylim(0,1)\n",
    "plt.show()"
   ]
  },
  {
   "cell_type": "code",
   "execution_count": 54,
   "metadata": {},
   "outputs": [],
   "source": [
    "y_prob = model.predict(X_test)"
   ]
  },
  {
   "cell_type": "code",
   "execution_count": 56,
   "metadata": {},
   "outputs": [
    {
     "data": {
      "text/plain": [
       "array([[0., 0., 1., ..., 0., 0., 0.],\n",
       "       [1., 0., 0., ..., 0., 0., 0.],\n",
       "       [0., 0., 0., ..., 0., 0., 1.],\n",
       "       ...,\n",
       "       [0., 0., 0., ..., 0., 0., 0.],\n",
       "       [0., 0., 0., ..., 0., 0., 1.],\n",
       "       [0., 0., 1., ..., 0., 0., 0.]], dtype=float32)"
      ]
     },
     "execution_count": 56,
     "metadata": {},
     "output_type": "execute_result"
    }
   ],
   "source": [
    "y_prob.round(2)"
   ]
  },
  {
   "cell_type": "code",
   "execution_count": 57,
   "metadata": {},
   "outputs": [
    {
     "name": "stdout",
     "output_type": "stream",
     "text": [
      "[9.2103295e-03 1.1590582e-09 2.9812467e-03 4.6905011e-06 1.3988595e-02\n",
      " 1.4315428e-06 6.9010566e-06 2.5571490e-04 1.4944400e-05 9.7353607e-01]\n"
     ]
    },
    {
     "data": {
      "image/png": "[encoded data removed]",
      "text/plain": [
       "<Figure size 432x288 with 1 Axes>"
      ]
     },
     "metadata": {
      "needs_background": "light"
     },
     "output_type": "display_data"
    }
   ],
   "source": [
    "i = 3 #item number\n",
    "plt.imshow(X_test_full[i])\n",
    "print(y_prob[i])\n"
   ]
  },
  {
   "cell_type": "code",
   "execution_count": 58,
   "metadata": {},
   "outputs": [
    {
     "name": "stdout",
     "output_type": "stream",
     "text": [
      "WARNING:tensorflow:From <ipython-input-58-5398495920a8>:1: Sequential.predict_classes (from tensorflow.python.keras.engine.sequential) is deprecated and will be removed after 2021-01-01.\n",
      "Instructions for updating:\n",
      "Please use instead:* `np.argmax(model.predict(x), axis=-1)`,   if your model does multi-class classification   (e.g. if it uses a `softmax` last-layer activation).* `(model.predict(x) > 0.5).astype(\"int32\")`,   if your model does binary classification   (e.g. if it uses a `sigmoid` last-layer activation).\n"
     ]
    },
    {
     "data": {
      "text/plain": [
       "array([2, 0, 9, ..., 3, 9, 2])"
      ]
     },
     "execution_count": 58,
     "metadata": {},
     "output_type": "execute_result"
    }
   ],
   "source": [
    "y_pred = model.predict_classes(X_test)\n",
    "y_pred"
   ]
  },
  {
   "cell_type": "code",
   "execution_count": 115,
   "metadata": {},
   "outputs": [
    {
     "name": "stdout",
     "output_type": "stream",
     "text": [
      "\t Prob :  [3.0515330e-12 1.2866460e-19 1.0000000e+00 5.0786664e-13 2.3747193e-12\n",
      " 3.9707109e-21 4.3360375e-15 1.8142951e-12 6.5518814e-13 7.8707980e-16]\n",
      "\n",
      "\t Digit :  2\n"
     ]
    },
    {
     "data": {
      "image/png": "[encoded data removed]",
      "text/plain": [
       "<Figure size 432x288 with 1 Axes>"
      ]
     },
     "metadata": {
      "needs_background": "light"
     },
     "output_type": "display_data"
    }
   ],
   "source": [
    "i = 0 #item number\n",
    "plt.imshow(X_test_full[i])\n",
    "print(\"\\t Prob : \",y_prob[i])\n",
    "print(\"\\n\\t Digit : \",y_pred[i])"
   ]
  },
  {
   "cell_type": "code",
   "execution_count": 97,
   "metadata": {},
   "outputs": [
    {
     "name": "stdout",
     "output_type": "stream",
     "text": [
      "28000\n",
      "28000\n",
      "<class 'numpy.ndarray'>\n"
     ]
    }
   ],
   "source": [
    "print(len(X_test_full))\n",
    "print(len(y_pred))\n",
    "print(type(y_pred))"
   ]
  },
  {
   "cell_type": "code",
   "execution_count": 117,
   "metadata": {},
   "outputs": [
    {
     "data": {
      "text/plain": [
       "[2, 0, 9, 9, 3, 7, 0, 3, 0, 3]"
      ]
     },
     "execution_count": 117,
     "metadata": {},
     "output_type": "execute_result"
    }
   ],
   "source": [
    "label = list(y_pred)\n",
    "label[:10]"
   ]
  },
  {
   "cell_type": "code",
   "execution_count": 93,
   "metadata": {},
   "outputs": [],
   "source": [
    "ImageId = [x for x in range(1,len(X_test_full)+1)]"
   ]
  },
  {
   "cell_type": "code",
   "execution_count": 102,
   "metadata": {},
   "outputs": [
    {
     "name": "stdout",
     "output_type": "stream",
     "text": [
      "28000\n",
      "28000\n",
      "1\n"
     ]
    }
   ],
   "source": [
    "print(len(ImageId))\n",
    "print(len(label))\n",
    "print(ImageId[0])"
   ]
  },
  {
   "cell_type": "code",
   "execution_count": 103,
   "metadata": {},
   "outputs": [],
   "source": [
    "data = {\"ImageId\": ImageId, \"Label\":label}"
   ]
  },
  {
   "cell_type": "code",
   "execution_count": 104,
   "metadata": {},
   "outputs": [],
   "source": [
    "df = pd.DataFrame (data, columns = ['ImageId','Label'])"
   ]
  },
  {
   "cell_type": "code",
   "execution_count": 105,
   "metadata": {},
   "outputs": [
    {
     "data": {
      "text/html": [
       "<div>\n",
       "<style scoped>\n",
       "    .dataframe tbody tr th:only-of-type {\n",
       "        vertical-align: middle;\n",
       "    }\n",
       "\n",
       "    .dataframe tbody tr th {\n",
       "        vertical-align: top;\n",
       "    }\n",
       "\n",
       "    .dataframe thead th {\n",
       "        text-align: right;\n",
       "    }\n",
       "</style>\n",
       "<table border=\"1\" class=\"dataframe\">\n",
       "  <thead>\n",
       "    <tr style=\"text-align: right;\">\n",
       "      <th></th>\n",
       "      <th>ImageId</th>\n",
       "      <th>Label</th>\n",
       "    </tr>\n",
       "  </thead>\n",
       "  <tbody>\n",
       "    <tr>\n",
       "      <th>0</th>\n",
       "      <td>1</td>\n",
       "      <td>2</td>\n",
       "    </tr>\n",
       "    <tr>\n",
       "      <th>1</th>\n",
       "      <td>2</td>\n",
       "      <td>0</td>\n",
       "    </tr>\n",
       "    <tr>\n",
       "      <th>2</th>\n",
       "      <td>3</td>\n",
       "      <td>9</td>\n",
       "    </tr>\n",
       "    <tr>\n",
       "      <th>3</th>\n",
       "      <td>4</td>\n",
       "      <td>9</td>\n",
       "    </tr>\n",
       "    <tr>\n",
       "      <th>4</th>\n",
       "      <td>5</td>\n",
       "      <td>3</td>\n",
       "    </tr>\n",
       "    <tr>\n",
       "      <th>...</th>\n",
       "      <td>...</td>\n",
       "      <td>...</td>\n",
       "    </tr>\n",
       "    <tr>\n",
       "      <th>27995</th>\n",
       "      <td>27996</td>\n",
       "      <td>9</td>\n",
       "    </tr>\n",
       "    <tr>\n",
       "      <th>27996</th>\n",
       "      <td>27997</td>\n",
       "      <td>7</td>\n",
       "    </tr>\n",
       "    <tr>\n",
       "      <th>27997</th>\n",
       "      <td>27998</td>\n",
       "      <td>3</td>\n",
       "    </tr>\n",
       "    <tr>\n",
       "      <th>27998</th>\n",
       "      <td>27999</td>\n",
       "      <td>9</td>\n",
       "    </tr>\n",
       "    <tr>\n",
       "      <th>27999</th>\n",
       "      <td>28000</td>\n",
       "      <td>2</td>\n",
       "    </tr>\n",
       "  </tbody>\n",
       "</table>\n",
       "<p>28000 rows × 2 columns</p>\n",
       "</div>"
      ],
      "text/plain": [
       "       ImageId  Label\n",
       "0            1      2\n",
       "1            2      0\n",
       "2            3      9\n",
       "3            4      9\n",
       "4            5      3\n",
       "...        ...    ...\n",
       "27995    27996      9\n",
       "27996    27997      7\n",
       "27997    27998      3\n",
       "27998    27999      9\n",
       "27999    28000      2\n",
       "\n",
       "[28000 rows x 2 columns]"
      ]
     },
     "execution_count": 105,
     "metadata": {},
     "output_type": "execute_result"
    }
   ],
   "source": [
    "df"
   ]
  },
  {
   "cell_type": "code",
   "execution_count": 106,
   "metadata": {},
   "outputs": [],
   "source": [
    "df.to_csv('sample_submission.csv', index=False)"
   ]
  },
  {
   "cell_type": "code",
   "execution_count": null,
   "metadata": {},
   "outputs": [],
   "source": []
  }
 ],
 "metadata": {
  "kernelspec": {
   "display_name": "Python 3",
   "language": "python",
   "name": "python3"
  },
  "language_info": {
   "codemirror_mode": {
    "name": "ipython",
    "version": 3
   },
   "file_extension": ".py",
   "mimetype": "text/x-python",
   "name": "python",
   "nbconvert_exporter": "python",
   "pygments_lexer": "ipython3",
   "version": "3.8.2"
  }
 },
 "nbformat": 4,
 "nbformat_minor": 4
}
